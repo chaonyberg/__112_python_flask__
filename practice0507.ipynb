{
 "cells": [
  {
   "cell_type": "code",
   "execution_count": 1,
   "metadata": {},
   "outputs": [
    {
     "name": "stdout",
     "output_type": "stream",
     "text": [
      "23\n",
      "9\n"
     ]
    }
   ],
   "source": [
    "a = input(\"輸入整數1a: \") \n",
    "b = input(\"輸入整數1b: \") \n",
    "c = int(input(\"int輸入c:\")) \n",
    "d = int(input(\"int輸入d:\")) \n",
    "f=a+b\n",
    "g=c+d \n",
    "print(f)\n",
    "print(g)"
   ]
  },
  {
   "cell_type": "code",
   "execution_count": 2,
   "metadata": {},
   "outputs": [
    {
     "name": "stdout",
     "output_type": "stream",
     "text": [
      "45\n",
      "9\n"
     ]
    }
   ],
   "source": [
    "a = input(\"整數a: \") \n",
    "b = input(\"整數b: \") \n",
    "c = int(input(\"輸入c:\")) \n",
    "d = int(input(\"輸入d:\")) \n",
    "f=a+b\n",
    "g=c+d \n",
    "print(f)\n",
    "print(g)"
   ]
  }
 ],
 "metadata": {
  "kernelspec": {
   "display_name": "Python 3",
   "language": "python",
   "name": "python3"
  },
  "language_info": {
   "codemirror_mode": {
    "name": "ipython",
    "version": 3
   },
   "file_extension": ".py",
   "mimetype": "text/x-python",
   "name": "python",
   "nbconvert_exporter": "python",
   "pygments_lexer": "ipython3",
   "version": "3.10.4"
  },
  "orig_nbformat": 4
 },
 "nbformat": 4,
 "nbformat_minor": 2
}

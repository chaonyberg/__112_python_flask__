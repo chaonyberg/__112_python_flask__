{
 "cells": [
  {
   "cell_type": "code",
   "execution_count": null,
   "metadata": {},
   "outputs": [],
   "source": []
  },
  {
   "cell_type": "code",
   "execution_count": 4,
   "metadata": {},
   "outputs": [
    {
     "name": "stdout",
     "output_type": "stream",
     "text": [
      "總共存了2月，共存了35799\n"
     ]
    }
   ],
   "source": [
    "deposite = 0\n",
    "num = 0\n",
    "while (deposite < 30000):\n",
    "    num += 1\n",
    "    input_value = int(input(f\"請輸入第{num}月份的存款:\"))\n",
    "    deposite += input_value\n",
    "\n",
    "print(f\"總共存了{num}月，共存了{deposite}\")                         \n",
    "                             \n",
    "    \n",
    "                            "
   ]
  },
  {
   "cell_type": "code",
   "execution_count": 2,
   "metadata": {},
   "outputs": [
    {
     "name": "stdout",
     "output_type": "stream",
     "text": [
      "總共存了6月,共存了85178\n"
     ]
    }
   ],
   "source": [
    "#小明想要存錢買一輛機車,機車每輛30000元，他將每月存的錢輸入，當存款足夠買機車時，就顯示提示訊息告知\n",
    "\n",
    "deposit = 0\n",
    "num = 0\n",
    "while(deposit < 30000):\n",
    "    num += 1\n",
    "    input_value = int(input(f\"請輸入第{num}月份的存款:\"))\n",
    "    deposit += input_value\n",
    "\n",
    "print(f\"總共存了{num}月,共存了{deposit}\")"
   ]
  },
  {
   "cell_type": "code",
   "execution_count": 5,
   "metadata": {},
   "outputs": [
    {
     "name": "stdout",
     "output_type": "stream",
     "text": [
      "總共存了9月，共存了31104\n"
     ]
    }
   ],
   "source": [
    "deposite = 0\n",
    "num = 0\n",
    "while (True):\n",
    "    num += 1\n",
    "    input_value = int(input(f\"請輸入第{num}月份的存款:\"))\n",
    "    deposite += input_value\n",
    "    if (deposite >= 30000):\n",
    "        break\n",
    "\n",
    "print(f\"總共存了{num}月，共存了{deposite}\")   "
   ]
  },
  {
   "cell_type": "code",
   "execution_count": 6,
   "metadata": {},
   "outputs": [
    {
     "name": "stdout",
     "output_type": "stream",
     "text": [
      "所有輸入的正偶數加總值是:30\n"
     ]
    }
   ],
   "source": [
    "num = 0\n",
    "sum = 0\n",
    "\n",
    "while(True):\n",
    "    num += 1\n",
    "    input_num = int(input(f\"請輸入第{num}個數值:\"))\n",
    "    if input_num < 0:\n",
    "        break\n",
    "    elif input_num % 2 == 1:\n",
    "        continue\n",
    "    else:\n",
    "        sum += input_num\n",
    "\n",
    "print(f\"所有輸入的正偶數加總值是:{sum}\")"
   ]
  },
  {
   "cell_type": "code",
   "execution_count": 9,
   "metadata": {},
   "outputs": [
    {
     "name": "stdout",
     "output_type": "stream",
     "text": [
      "35的因數是:\n",
      "1\n",
      "5\n",
      "7\n",
      "35\n",
      "*********結束\n"
     ]
    }
   ],
   "source": [
    "num = int(input(\"請輸入一個數值，並求其因數:\"))\n",
    "print(f\"{num}的因數是:\")\n",
    "for i in range(1, num +1):\n",
    "    if num % i == 0:\n",
    "        print(i)\n",
    "\n",
    "print(\"*********結束\")"
   ]
  },
  {
   "cell_type": "code",
   "execution_count": 3,
   "metadata": {},
   "outputs": [
    {
     "name": "stdout",
     "output_type": "stream",
     "text": [
      "45的因數是:\n",
      "1\n",
      "3\n",
      "5\n",
      "9\n",
      "15\n",
      "45\n",
      "*********結束\n"
     ]
    }
   ],
   "source": [
    "#自訂的function\n",
    "\n",
    "def get_factor():\n",
    "    num = int(input(\"請輸入一個數值，並求其因數:\"))\n",
    "    print(f\"{num}的因數是:\")\n",
    "    for i in range(1, num +1):\n",
    "        if num % i == 0:\n",
    "            print(i)\n",
    "    print(\"*********結束\")\n",
    "\n",
    "get_factor()\n"
   ]
  },
  {
   "cell_type": "code",
   "execution_count": 4,
   "metadata": {},
   "outputs": [
    {
     "name": "stdout",
     "output_type": "stream",
     "text": [
      "45的因數是:\n",
      "1\n",
      "3\n",
      "5\n",
      "9\n",
      "15\n",
      "45\n",
      "*********結束\n",
      "64的因數是:\n",
      "1\n",
      "2\n",
      "4\n",
      "8\n",
      "16\n",
      "32\n",
      "64\n",
      "*********結束\n",
      "63的因數是:\n",
      "1\n",
      "3\n",
      "7\n",
      "9\n",
      "21\n",
      "63\n",
      "*********結束\n"
     ]
    }
   ],
   "source": [
    "#呼叫function\n",
    "\n",
    "for i in range(3):\n",
    "    get_factor()"
   ]
  },
  {
   "cell_type": "code",
   "execution_count": 5,
   "metadata": {},
   "outputs": [
    {
     "data": {
      "text/plain": [
       "(12, 23, 34, 45, 56)"
      ]
     },
     "execution_count": 5,
     "metadata": {},
     "output_type": "execute_result"
    }
   ],
   "source": [
    "#list\n",
    "nums = [12,23,34,45,56]\n",
    "nums[0], nums[1], nums[2], nums[3], nums[4]"
   ]
  },
  {
   "cell_type": "code",
   "execution_count": 6,
   "metadata": {},
   "outputs": [
    {
     "name": "stdout",
     "output_type": "stream",
     "text": [
      "12\n",
      "23\n",
      "34\n",
      "45\n",
      "56\n"
     ]
    }
   ],
   "source": [
    "for i in range(5):\n",
    "    print(nums[i])"
   ]
  },
  {
   "cell_type": "code",
   "execution_count": 7,
   "metadata": {},
   "outputs": [
    {
     "name": "stdout",
     "output_type": "stream",
     "text": [
      "12\n",
      "23\n",
      "34\n",
      "45\n",
      "56\n"
     ]
    }
   ],
   "source": [
    "for item in nums:\n",
    "    print(item)\n"
   ]
  }
 ],
 "metadata": {
  "kernelspec": {
   "display_name": "Python 3",
   "language": "python",
   "name": "python3"
  },
  "language_info": {
   "codemirror_mode": {
    "name": "ipython",
    "version": 3
   },
   "file_extension": ".py",
   "mimetype": "text/x-python",
   "name": "python",
   "nbconvert_exporter": "python",
   "pygments_lexer": "ipython3",
   "version": "3.9.16"
  },
  "orig_nbformat": 4
 },
 "nbformat": 4,
 "nbformat_minor": 2
}
